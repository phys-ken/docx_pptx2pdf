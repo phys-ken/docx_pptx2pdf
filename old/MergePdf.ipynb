{
 "cells": [
  {
   "cell_type": "code",
   "execution_count": 1,
   "metadata": {},
   "outputs": [
    {
     "output_type": "execute_result",
     "data": {
      "text/plain": [
       "'3.9.2 (default, Feb 19 2021, 17:43:04) \\n[Clang 12.0.0 (clang-1200.0.32.29)]'"
      ]
     },
     "metadata": {},
     "execution_count": 1
    }
   ],
   "source": [
    "import sys\n",
    "sys.version"
   ]
  },
  {
   "cell_type": "code",
   "execution_count": 2,
   "metadata": {},
   "outputs": [
    {
     "output_type": "stream",
     "name": "stdout",
     "text": [
      "Requirement already satisfied: pip in /usr/local/lib/python3.9/site-packages (21.1.2)\n"
     ]
    }
   ],
   "source": [
    "!/usr/local/opt/python@3.9/bin/python3.9 -m pip install --upgrade pip"
   ]
  },
  {
   "cell_type": "code",
   "execution_count": 3,
   "metadata": {},
   "outputs": [
    {
     "output_type": "stream",
     "name": "stdout",
     "text": [
      "Requirement already satisfied: PyPDF2 in /usr/local/lib/python3.9/site-packages (1.26.0)\n"
     ]
    }
   ],
   "source": [
    "!pip3.9 install PyPDF2"
   ]
  },
  {
   "cell_type": "code",
   "execution_count": 4,
   "metadata": {},
   "outputs": [
    {
     "output_type": "stream",
     "name": "stdout",
     "text": [
      "Requirement already satisfied: docx2pdf in /usr/local/lib/python3.9/site-packages (0.1.7)\nRequirement already satisfied: appscript<2.0.0,>=1.1.0 in /usr/local/lib/python3.9/site-packages (from docx2pdf) (1.1.2)\nRequirement already satisfied: tqdm<5.0.0,>=4.41.0 in /usr/local/lib/python3.9/site-packages (from docx2pdf) (4.60.0)\n"
     ]
    }
   ],
   "source": [
    "!pip3.9 install docx2pdf"
   ]
  },
  {
   "cell_type": "code",
   "execution_count": 13,
   "metadata": {},
   "outputs": [],
   "source": [
    "import PyPDF2\n",
    "import glob\n",
    "import os\n",
    "from docx2pdf import convert\n",
    "\n",
    "### まずは、ここでパスを指定します。\n",
    "\n",
    "# 変換する前のワードファイルがあるフォルダ\n",
    "input_dir = input(\"ワードファイルが入っているフォルダのパスをフルパスで入力してください。\")\n",
    "\n",
    "# 変換したPDFファイルを保存するフォルダ\n",
    "# デフォルトは input_dir + PDF\n",
    "output_dir = input_dir + \"/PDF\"\n",
    "os.mkdir(output_dir)\n",
    "\n",
    "# 変換したPDFを結合して、保存するファイル名\n",
    "output_file =  input_dir + \"/PDF/000.marge.pdf\"\n",
    "\n"
   ]
  },
  {
   "cell_type": "code",
   "execution_count": 14,
   "metadata": {},
   "outputs": [
    {
     "output_type": "stream",
     "name": "stderr",
     "text": [
      "100%|██████████| 7/7 [01:14<00:00,  7.84s/it]PDF化が完了しました！\n"
     ]
    }
   ],
   "source": [
    "#このセルでは、input_dirのwordファイルを、全てpdfに変換します。\n",
    "\n",
    "\n",
    "\n",
    "\"\"\"\n",
    "use library: https://github.com/AlJohri/docx2pdf\n",
    "\"\"\"\n",
    "\n",
    "def convert_pdf(input_dir=\"output/\", output_dir=\"output_pdf/\"):\n",
    "    \"\"\"\n",
    "    docxファイルの保存されたフォルダを指定して、フォルダ格納データを全てpdfにして、指定フォルダに保存する\n",
    "    :param input_dir: dir_name, default:output/,  outputフォルダを利用\n",
    "    :param output_dir: dir_name, default:output_pdf/, output_pdfフォルダを利用\n",
    "    :return: output_pdfフォルダにoutputフォルダのpdfが全て保存される\n",
    "    \"\"\"\n",
    "    convert(input_dir, output_dir)\n",
    "\n",
    "    \n",
    "convert_pdf(input_dir, output_dir)\n",
    "\n",
    "print(\"PDF化が完了しました！\")"
   ]
  },
  {
   "cell_type": "code",
   "execution_count": 15,
   "metadata": {},
   "outputs": [
    {
     "output_type": "stream",
     "name": "stderr",
     "text": [
      "100%|██████████| 7/7 [04:02<00:00, 34.70s/it]\n",
      "PDFの結合が完了しました！\n"
     ]
    }
   ],
   "source": [
    "#このセルでは、output_dirのpdfファイルを、全てoutput_fileに結合します。\n",
    "\n",
    "import PyPDF2\n",
    "import glob\n",
    "import os\n",
    "\n",
    "def merge_pdf_in_dir(dir_path, dst_path):\n",
    "    l = glob.glob(os.path.join(dir_path, '*.pdf'))\n",
    "    l.sort()\n",
    "\n",
    "    merger = PyPDF2.PdfFileMerger()\n",
    "    for p in l:\n",
    "        if not PyPDF2.PdfFileReader(p).isEncrypted:\n",
    "            merger.append(p)\n",
    "\n",
    "    merger.write(dst_path)\n",
    "    merger.close()\n",
    "\n",
    "    \n",
    "# インプットパスとアウトプットファイル名を指定する。\n",
    "#https://note.nkmk.me/python-pypdf2-pdf-merge-insert-split/\n",
    "merge_pdf_in_dir(output_dir, output_file)\n",
    "\n",
    "print(\"PDFの結合が完了しました！\")"
   ]
  },
  {
   "cell_type": "code",
   "execution_count": null,
   "metadata": {},
   "outputs": [],
   "source": []
  }
 ],
 "metadata": {
  "kernelspec": {
   "name": "python3",
   "display_name": "Python 3.9.2 64-bit"
  },
  "language_info": {
   "codemirror_mode": {
    "name": "ipython",
    "version": 3
   },
   "file_extension": ".py",
   "mimetype": "text/x-python",
   "name": "python",
   "nbconvert_exporter": "python",
   "pygments_lexer": "ipython3",
   "version": "3.9.2"
  },
  "metadata": {
   "interpreter": {
    "hash": "aee8b7b246df8f9039afb4144a1f6fd8d2ca17a180786b69acc140d282b71a49"
   }
  },
  "interpreter": {
   "hash": "aee8b7b246df8f9039afb4144a1f6fd8d2ca17a180786b69acc140d282b71a49"
  }
 },
 "nbformat": 4,
 "nbformat_minor": 4
}